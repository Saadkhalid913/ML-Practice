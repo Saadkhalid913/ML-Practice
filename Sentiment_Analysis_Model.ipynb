{
  "nbformat": 4,
  "nbformat_minor": 0,
  "metadata": {
    "colab": {
      "name": "Sentiment Analysis Model.ipynb",
      "provenance": [],
      "collapsed_sections": [],
      "authorship_tag": "ABX9TyNlO7QLP23+dMugU0bJ8whl",
      "include_colab_link": true
    },
    "kernelspec": {
      "name": "python3",
      "display_name": "Python 3"
    },
    "language_info": {
      "name": "python"
    }
  },
  "cells": [
    {
      "cell_type": "markdown",
      "metadata": {
        "id": "view-in-github",
        "colab_type": "text"
      },
      "source": [
        "<a href=\"https://colab.research.google.com/github/Saadkhalid913/ML-Practice/blob/main/Sentiment_Analysis_Model.ipynb\" target=\"_parent\"><img src=\"https://colab.research.google.com/assets/colab-badge.svg\" alt=\"Open In Colab\"/></a>"
      ]
    },
    {
      "cell_type": "code",
      "metadata": {
        "colab": {
          "base_uri": "https://localhost:8080/"
        },
        "id": "DKxm39eiA6Uj",
        "outputId": "eac55423-ebff-4a43-e2cf-f05c64def75b"
      },
      "source": [
        "import numpy as np\n",
        "import nltk \n",
        "import tensorflow as tf \n",
        "import pandas as pd \n",
        "nltk.download(\"stopwords\")\n",
        "from nltk.corpus import stopwords\n",
        "from nltk.stem.porter import PorterStemmer\n",
        "import sklearn \n",
        "from sklearn.feature_extraction.text import CountVectorizer\n",
        "from sklearn.model_selection import train_test_split\n",
        "from sklearn.preprocessing import MinMaxScaler, Normalizer, OneHotEncoder, LabelEncoder \n",
        "from sklearn.metrics import accuracy_score\n",
        "import keras \n",
        "from keras.layers.core import Dense"
      ],
      "execution_count": 102,
      "outputs": [
        {
          "output_type": "stream",
          "name": "stdout",
          "text": [
            "[nltk_data] Downloading package stopwords to /root/nltk_data...\n",
            "[nltk_data]   Package stopwords is already up-to-date!\n"
          ]
        }
      ]
    },
    {
      "cell_type": "code",
      "metadata": {
        "id": "W3Nh62HyBPe_"
      },
      "source": [
        "# segmenting and parsing data\n",
        "\n",
        "data = []\n",
        "with open(\"./data.txt\", \"r\") as f:\n",
        "  datapoints = f.read().split(\"\\n\")\n",
        "  for datapoint in datapoints:\n",
        "    sentence, emotion = datapoint.split(\";\")\n",
        "    data.append([sentence, emotion])\n",
        "\n",
        "data = np.array(data)\n",
        "\n",
        "\n"
      ],
      "execution_count": 103,
      "outputs": []
    },
    {
      "cell_type": "code",
      "metadata": {
        "id": "KWrPswiFCV-J"
      },
      "source": [
        "import re\n",
        "\n",
        "\n",
        "# defining utility functions \n",
        "ps = PorterStemmer()\n",
        "def replace_not_alphabetical_chars(s: str):\n",
        "  return re.sub(\"[^a-zA-Z]\", \" \", s)\n",
        "def SplitSentence(s: str):\n",
        "  s = s.lower()\n",
        "  s = s.split()\n",
        "  return s \n",
        "def GetStopwords():\n",
        "  words = stopwords.words(\"english\")\n",
        "  words.remove(\"not\")\n",
        "  return words\n",
        "def GetStem(word: str) -> str:\n",
        "  global ps \n",
        "  return ps.stem(word)\n"
      ],
      "execution_count": 104,
      "outputs": []
    },
    {
      "cell_type": "code",
      "metadata": {
        "id": "D-UrOzzEO6UX"
      },
      "source": [
        "EnglishStopwords = GetStopwords()"
      ],
      "execution_count": 105,
      "outputs": []
    },
    {
      "cell_type": "code",
      "metadata": {
        "id": "CgJCR0e-OXDd"
      },
      "source": [
        "# pre-processing data \n",
        "\n",
        "sentences = []\n",
        "for datapoint in data:\n",
        "  sentence, emotion = datapoint\n",
        "  sentence = replace_not_alphabetical_chars(sentence)\n",
        "  sentence = SplitSentence(sentence)\n",
        "  # sentence = [GetStem(word) for word in sentence if word not in set(EnglishStopwords)]\n",
        "  sentence = \" \".join(sentence)\n",
        "  sentences.append(sentence)\n"
      ],
      "execution_count": 106,
      "outputs": []
    },
    {
      "cell_type": "code",
      "metadata": {
        "id": "ZczsO6-xQXKD"
      },
      "source": [
        "# Vectorizing words \n",
        "CV = CountVectorizer(max_features=1500)\n",
        "x = CV.fit_transform(sentences).toarray()"
      ],
      "execution_count": 107,
      "outputs": []
    },
    {
      "cell_type": "code",
      "metadata": {
        "id": "-fahfbF1S6lA"
      },
      "source": [
        "y = data[ : , [-1]]"
      ],
      "execution_count": 108,
      "outputs": []
    },
    {
      "cell_type": "code",
      "metadata": {
        "id": "s2h2IzUsSGVG"
      },
      "source": [
        "# Encoding Y (getting classes)\n",
        "encoder = OneHotEncoder()\n",
        "y = encoder.fit_transform(y).toarray()"
      ],
      "execution_count": 109,
      "outputs": []
    },
    {
      "cell_type": "code",
      "metadata": {
        "id": "YAxxszVWSDmi"
      },
      "source": [
        "model = tf.keras.models.Sequential()\n",
        "model.add(Dense(units = 2000, activation=\"relu\"))\n",
        "model.add(Dense(units = 6, activation=\"sigmoid\"))\n",
        "model.compile(optimizer = 'adam', loss = 'categorical_crossentropy', metrics = ['accuracy'])"
      ],
      "execution_count": 110,
      "outputs": []
    },
    {
      "cell_type": "code",
      "metadata": {
        "colab": {
          "base_uri": "https://localhost:8080/"
        },
        "id": "Em-NOmI_stdc",
        "outputId": "66bcdacd-c4bb-4af9-cef8-efefa5efe16c"
      },
      "source": [
        "print(x.shape)\n",
        "print(y.shape)"
      ],
      "execution_count": 111,
      "outputs": [
        {
          "output_type": "stream",
          "name": "stdout",
          "text": [
            "(2000, 1500)\n",
            "(2000, 6)\n"
          ]
        }
      ]
    },
    {
      "cell_type": "code",
      "metadata": {
        "colab": {
          "base_uri": "https://localhost:8080/"
        },
        "id": "GCanLPwwtC_9",
        "outputId": "a9dca370-a317-49fc-e3fd-df67b6e2ee3e"
      },
      "source": [
        "model.fit(x,y, epochs=10, batch_size=64)"
      ],
      "execution_count": 112,
      "outputs": [
        {
          "output_type": "stream",
          "name": "stdout",
          "text": [
            "Epoch 1/10\n",
            "32/32 [==============================] - 2s 36ms/step - loss: 1.5352 - accuracy: 0.4235\n",
            "Epoch 2/10\n",
            "32/32 [==============================] - 1s 34ms/step - loss: 0.9115 - accuracy: 0.7525\n",
            "Epoch 3/10\n",
            "32/32 [==============================] - 1s 34ms/step - loss: 0.4095 - accuracy: 0.9320\n",
            "Epoch 4/10\n",
            "32/32 [==============================] - 1s 34ms/step - loss: 0.1576 - accuracy: 0.9845\n",
            "Epoch 5/10\n",
            "32/32 [==============================] - 1s 34ms/step - loss: 0.0733 - accuracy: 0.9940\n",
            "Epoch 6/10\n",
            "32/32 [==============================] - 1s 34ms/step - loss: 0.0418 - accuracy: 0.9970\n",
            "Epoch 7/10\n",
            "32/32 [==============================] - 1s 35ms/step - loss: 0.0271 - accuracy: 1.0000\n",
            "Epoch 8/10\n",
            "32/32 [==============================] - 1s 34ms/step - loss: 0.0191 - accuracy: 0.9995\n",
            "Epoch 9/10\n",
            "32/32 [==============================] - 1s 34ms/step - loss: 0.0144 - accuracy: 1.0000\n",
            "Epoch 10/10\n",
            "32/32 [==============================] - 1s 34ms/step - loss: 0.0112 - accuracy: 1.0000\n"
          ]
        },
        {
          "output_type": "execute_result",
          "data": {
            "text/plain": [
              "<keras.callbacks.History at 0x7fd7d0663910>"
            ]
          },
          "metadata": {},
          "execution_count": 112
        }
      ]
    },
    {
      "cell_type": "code",
      "metadata": {
        "colab": {
          "base_uri": "https://localhost:8080/"
        },
        "id": "0Npx45tJv_f9",
        "outputId": "fe312acd-9310-4307-9e02-efce4e82603b"
      },
      "source": [
        "classes"
      ],
      "execution_count": 123,
      "outputs": [
        {
          "output_type": "execute_result",
          "data": {
            "text/plain": [
              "array(['anger', 'fear', 'joy', 'love', 'sadness', 'surprise'],\n",
              "      dtype='<U296')"
            ]
          },
          "metadata": {},
          "execution_count": 123
        }
      ]
    },
    {
      "cell_type": "code",
      "metadata": {
        "id": "C-0sCGDjuWqr",
        "colab": {
          "base_uri": "https://localhost:8080/"
        },
        "outputId": "0945ac01-0fc7-488a-b996-36a9acc7f804"
      },
      "source": [
        "UserInput = input(\"> \")\n",
        "string = [UserInput]\n",
        "string = CV.transform(string).toarray()\n",
        "pred = model.predict(np.array([string]))\n",
        "index = np.argmax(pred)\n",
        "print(classes[index])"
      ],
      "execution_count": 124,
      "outputs": [
        {
          "output_type": "stream",
          "name": "stdout",
          "text": [
            "> I didn't know that this was going to be the best game of 2020!\n",
            "anger\n"
          ]
        }
      ]
    }
  ]
}