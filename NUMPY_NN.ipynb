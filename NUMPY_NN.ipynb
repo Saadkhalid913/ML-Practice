{
  "nbformat": 4,
  "nbformat_minor": 0,
  "metadata": {
    "colab": {
      "name": "NUMPY_NN.ipynb",
      "provenance": [],
      "authorship_tag": "ABX9TyPpaMMip5bVjNG93MDJRQI6",
      "include_colab_link": true
    },
    "kernelspec": {
      "name": "python3",
      "display_name": "Python 3"
    },
    "language_info": {
      "name": "python"
    }
  },
  "cells": [
    {
      "cell_type": "markdown",
      "metadata": {
        "id": "view-in-github",
        "colab_type": "text"
      },
      "source": [
        "<a href=\"https://colab.research.google.com/github/Saadkhalid913/ML-Practice/blob/main/NUMPY_NN.ipynb\" target=\"_parent\"><img src=\"https://colab.research.google.com/assets/colab-badge.svg\" alt=\"Open In Colab\"/></a>"
      ]
    },
    {
      "cell_type": "code",
      "metadata": {
        "id": "TE1zK3z9BdH5"
      },
      "source": [
        "'''\n",
        "\n",
        "  lesson 11 numpy neural network from scratch\n",
        "\n",
        "'''\n",
        "\n",
        "# imports \n",
        "import numpy as np\n",
        "import matplotlib.pyplot as plt \n",
        "from sklearn.metrics import accuracy_score\n",
        "from sklearn.datasets import make_blobs, make_moons"
      ],
      "execution_count": null,
      "outputs": []
    },
    {
      "cell_type": "code",
      "metadata": {
        "id": "WPWINOojsIKo"
      },
      "source": [
        "# preparing non-linear dataset \n",
        "x , y = make_moons(n_samples=10, shuffle=True, noise=0.15)"
      ],
      "execution_count": null,
      "outputs": []
    },
    {
      "cell_type": "code",
      "metadata": {
        "colab": {
          "base_uri": "https://localhost:8080/"
        },
        "id": "jG1LKNHpBuon",
        "outputId": "0323064e-cedb-4875-be08-c48f7aa39fa0"
      },
      "source": [
        "\n",
        "\n",
        "def relu(x: np.array):\n",
        "   return np.where(x > 0, x, 0)\n",
        "\n",
        "def retrieve(model):\n",
        "  W1 = model[\"W1\"]\n",
        "  b1 = model[\"b1\"]\n",
        "  W2 = model[\"W2\"]\n",
        "  b2 = model[\"b2\"]\n",
        "\n",
        "\n",
        "  return W1, b1, W2, b2   \n",
        "n_samples = len(x)\n",
        "input_neurons = 2\n",
        "output_neurons = 2\n",
        "learning_rate = 0.001 \n",
        "Lambda = 0.01 \n",
        "\n",
        "# model_dict = {\"W1\": W1, \"b1\": b1, \"W2\": W2, \"b2\": b2}\n",
        "\n",
        "def forward(x, model):\n",
        "  W1, b1, W2, b2 = retrieve(model)\n",
        "  \n",
        "  out1 = x.dot(W1) + b1\n",
        "  out1 = np.tanh(out1)\n",
        "  out2 = out1.dot(W2) + b2\n",
        "  out2 = np.tanh(out2)\n",
        "  \n",
        "  result = np.exp(out2)\n",
        "  softmax = result / np.sum(result, axis = 1, keepdims=true)\n",
        "\n",
        "  return softmax \n",
        "\n",
        "def loss(y_pred, y, model):\n",
        "  W1, b1, W2, b2 = retrieve(model)\n",
        "  confidence_array = np.zeros(y.shape[0])\n",
        "  for i, correct_index in enumerate(y):\n",
        "    confidence_array[i] = y_pred[i][correct_index]\n",
        "\n",
        "  log_loss = np.sum(-np.log(confidence_array))\n",
        "  reg_loss = (Lambda/2) * (np.sum(np.square(W1)) +np.sum(np.square(W1)))\n",
        "  loss = log_loss + reg_loss \n",
        "  return float(loss / y.shape[0])\n",
        "\n",
        "def predict(x):\n",
        "  W1, b1, W2, b2 = retrieve(model)\n",
        "  \n",
        "  out1 = x.dot(W1) + b1\n",
        "  out1 = np.tanh(out1)\n",
        "  out2 = out1.dot(W2) + b2\n",
        "  out2 = np.tanh(out2)\n",
        "  \n",
        "  result = np.exp(out2)\n",
        "  softmax = result / np.sum(result, axis = 1, keepdims=true)\n",
        "\n",
        "  return np.argmax(softmax, axis=1, keepdims=True) \n",
        "\n",
        "loss(np.random.rand(10,2), y, \"\")\n",
        "\n",
        "\n"
      ],
      "execution_count": null,
      "outputs": [
        {
          "output_type": "stream",
          "name": "stdout",
          "text": [
            "[[0.         0.30022201 0.30022201 0.89708159]\n",
            " [1.         0.06639183 0.65486901 0.06639183]\n",
            " [1.         0.0124803  0.29919487 0.0124803 ]\n",
            " [1.         0.87514844 0.99037261 0.87514844]\n",
            " [0.         0.76391226 0.76391226 0.77004334]\n",
            " [0.         0.31157161 0.31157161 0.22457438]\n",
            " [0.         0.13574403 0.13574403 0.89831795]\n",
            " [1.         0.03719339 0.46200736 0.03719339]\n",
            " [1.         0.79685796 0.92232355 0.79685796]\n",
            " [0.         0.29149643 0.29149643 0.07366317]]\n"
          ]
        }
      ]
    },
    {
      "cell_type": "code",
      "metadata": {
        "colab": {
          "base_uri": "https://localhost:8080/",
          "height": 304
        },
        "id": "Q96_Z9c1ys8Y",
        "outputId": "2c3ad1a4-9be5-4a37-bba7-cbceedd32d22"
      },
      "source": [
        "ˇ"
      ],
      "execution_count": null,
      "outputs": [
        {
          "output_type": "error",
          "ename": "AttributeError",
          "evalue": "ignored",
          "traceback": [
            "\u001b[0;31m---------------------------------------------------------------------------\u001b[0m",
            "\u001b[0;31mAttributeError\u001b[0m                            Traceback (most recent call last)",
            "\u001b[0;32m<ipython-input-34-5cd8773181d3>\u001b[0m in \u001b[0;36m<module>\u001b[0;34m()\u001b[0m\n\u001b[1;32m      1\u001b[0m \u001b[0;32mimport\u001b[0m \u001b[0mmath\u001b[0m\u001b[0;34m\u001b[0m\u001b[0;34m\u001b[0m\u001b[0m\n\u001b[0;32m----> 2\u001b[0;31m \u001b[0mnp\u001b[0m\u001b[0;34m.\u001b[0m\u001b[0mln\u001b[0m\u001b[0;34m(\u001b[0m\u001b[0mmath\u001b[0m\u001b[0;34m.\u001b[0m\u001b[0me\u001b[0m\u001b[0;34m)\u001b[0m\u001b[0;34m\u001b[0m\u001b[0;34m\u001b[0m\u001b[0m\n\u001b[0m",
            "\u001b[0;32m/usr/local/lib/python3.7/dist-packages/numpy/__init__.py\u001b[0m in \u001b[0;36m__getattr__\u001b[0;34m(attr)\u001b[0m\n\u001b[1;32m    213\u001b[0m             \u001b[0;32melse\u001b[0m\u001b[0;34m:\u001b[0m\u001b[0;34m\u001b[0m\u001b[0;34m\u001b[0m\u001b[0m\n\u001b[1;32m    214\u001b[0m                 raise AttributeError(\"module {!r} has no attribute \"\n\u001b[0;32m--> 215\u001b[0;31m                                      \"{!r}\".format(__name__, attr))\n\u001b[0m\u001b[1;32m    216\u001b[0m \u001b[0;34m\u001b[0m\u001b[0m\n\u001b[1;32m    217\u001b[0m         \u001b[0;32mdef\u001b[0m \u001b[0m__dir__\u001b[0m\u001b[0;34m(\u001b[0m\u001b[0;34m)\u001b[0m\u001b[0;34m:\u001b[0m\u001b[0;34m\u001b[0m\u001b[0;34m\u001b[0m\u001b[0m\n",
            "\u001b[0;31mAttributeError\u001b[0m: module 'numpy' has no attribute 'ln'"
          ]
        }
      ]
    },
    {
      "cell_type": "code",
      "metadata": {
        "id": "cEz3aXmvys0-"
      },
      "source": [
        ""
      ],
      "execution_count": null,
      "outputs": []
    }
  ]
}