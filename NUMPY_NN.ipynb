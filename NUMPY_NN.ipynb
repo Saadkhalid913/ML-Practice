{
  "nbformat": 4,
  "nbformat_minor": 0,
  "metadata": {
    "colab": {
      "name": "NUMPY_NN.ipynb",
      "provenance": [],
      "authorship_tag": "ABX9TyNAkVtIKnlG92SSiesVie27",
      "include_colab_link": true
    },
    "kernelspec": {
      "name": "python3",
      "display_name": "Python 3"
    },
    "language_info": {
      "name": "python"
    }
  },
  "cells": [
    {
      "cell_type": "markdown",
      "metadata": {
        "id": "view-in-github",
        "colab_type": "text"
      },
      "source": [
        "<a href=\"https://colab.research.google.com/github/Saadkhalid913/ML-Practice/blob/main/NUMPY_NN.ipynb\" target=\"_parent\"><img src=\"https://colab.research.google.com/assets/colab-badge.svg\" alt=\"Open In Colab\"/></a>"
      ]
    },
    {
      "cell_type": "code",
      "metadata": {
        "id": "TE1zK3z9BdH5"
      },
      "source": [
        "'''\n",
        "\n",
        "  lesson 11 numpy neural network from scratch\n",
        "\n",
        "'''\n",
        "\n",
        "# imports \n",
        "import numpy as np\n",
        "import matplotlib.pyplot as plt \n",
        "from sklearn.metrics import accuracy_score\n",
        "from sklearn.datasets import make_blobs, make_moons"
      ],
      "execution_count": null,
      "outputs": []
    },
    {
      "cell_type": "code",
      "metadata": {
        "colab": {
          "base_uri": "https://localhost:8080/"
        },
        "id": "jG1LKNHpBuon",
        "outputId": "faa5b93b-669b-4527-abf0-09604a97d5bd"
      },
      "source": [
        "# preparing non-linear dataset \n",
        "x , y = make_moons(n_samples=10, shuffle=True, noise=0.15)\n",
        "\n",
        "n_samples = len(x)\n",
        "input_neurons = 2\n",
        "output_neurons = 2\n",
        "learning_rate = 0.001 \n",
        "Lambda = 0.01 \n",
        "\n",
        "class NN():\n",
        "  def __init__(self, input_neurons, output_neurons, lr):\n",
        "    self.layer1 = np.random.rand(input_neurons, 3)\n",
        "    self.layer2 = np.random.rand(3, output_neurons)\n",
        "  \n",
        "  def relu(self, x: np.array):\n",
        "   return np.where(x > 0, x, 0)\n",
        "\n",
        "  def sigmoid(self, x: np.array):\n",
        "    return 1 / 1 - np.exp(-x)\n",
        "\n",
        "  def Forward(self, x):\n",
        "    out = np.dot(x, self.layer1)\n",
        "    out = self.sigmoid(out)\n",
        "    out = np.dot(out, self.layer2)\n",
        "    return out \n",
        "\n",
        "\n",
        "n = NN(input_neurons=input_neurons, output_neurons=output_neurons, lr = learning_rate)\n",
        "print(n.Forward(x))\n"
      ],
      "execution_count": null,
      "outputs": [
        {
          "output_type": "stream",
          "name": "stdout",
          "text": [
            "[[ 0.21744223  0.71489291]\n",
            " [-0.17128952 -0.12714078]\n",
            " [ 0.38705416  0.97407079]\n",
            " [ 0.29268398  0.74783864]\n",
            " [-0.10793901 -0.19546025]\n",
            " [ 0.1699798   0.3950837 ]\n",
            " [ 0.18884588  0.63820079]\n",
            " [-0.12500223 -0.66345952]\n",
            " [ 0.05603884 -0.00981666]\n",
            " [ 0.27109403  0.65822018]]\n"
          ]
        }
      ]
    },
    {
      "cell_type": "code",
      "metadata": {
        "colab": {
          "base_uri": "https://localhost:8080/"
        },
        "id": "Lpb5vOE-L-4N",
        "outputId": "b1ee4a65-f824-4427-fd62-6d1165c23ad9"
      },
      "source": [
        "v = np.array([[1,1,1], \n",
        "              [1,1,1]])\n",
        "\n",
        "m = np.array([[1,2,3], \n",
        "              [1,2,3], \n",
        "              [1,2,3]])\n",
        "print(np.dot(v,m))"
      ],
      "execution_count": null,
      "outputs": [
        {
          "output_type": "stream",
          "name": "stdout",
          "text": [
            "[[3 6 9]\n",
            " [3 6 9]]\n"
          ]
        }
      ]
    },
    {
      "cell_type": "code",
      "metadata": {
        "id": "R0RzRKt5N8sv"
      },
      "source": [
        " def relu(x: np.array):\n",
        "   return np.where(x > 0, x, 0)\n"
      ],
      "execution_count": null,
      "outputs": []
    }
  ]
}