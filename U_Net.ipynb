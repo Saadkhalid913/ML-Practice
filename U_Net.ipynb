{
  "cells": [
    {
      "cell_type": "markdown",
      "metadata": {
        "id": "view-in-github",
        "colab_type": "text"
      },
      "source": [
        "<a href=\"https://colab.research.google.com/github/Saadkhalid913/ML-Practice/blob/main/U_Net.ipynb\" target=\"_parent\"><img src=\"https://colab.research.google.com/assets/colab-badge.svg\" alt=\"Open In Colab\"/></a>"
      ]
    },
    {
      "cell_type": "code",
      "execution_count": null,
      "metadata": {
        "id": "ig_scI79jLd-"
      },
      "outputs": [],
      "source": [
        "# !pip install kaggle "
      ]
    },
    {
      "cell_type": "code",
      "execution_count": 81,
      "metadata": {
        "colab": {
          "base_uri": "https://localhost:8080/"
        },
        "id": "15Iq96nCiuou",
        "outputId": "a260bcd0-81b8-4d5c-f61c-93a5e4888b03"
      },
      "outputs": [
        {
          "output_type": "stream",
          "name": "stdout",
          "text": [
            "Drive already mounted at drive; to attempt to forcibly remount, call drive.mount(\"drive\", force_remount=True).\n"
          ]
        }
      ],
      "source": [
        "import torchvision.transforms as transforms \n",
        "import torch.nn.functional as F \n",
        "import torch.nn as nn\n",
        "import numpy as np\n",
        "import os \n",
        "import matplotlib.pyplot as plt \n",
        "from PIL import Image\n",
        "import google.colab.drive as drive \n",
        "from torch.utils.data import Dataset, dataloader\n",
        "import torch\n",
        "import tensorflow as tf \n",
        "import tqdm\n",
        "from skimage.filters import threshold_multiotsu\n",
        "import seaborn as sns\n",
        "\n",
        "drive.mount(\"drive\")"
      ]
    },
    {
      "cell_type": "code",
      "execution_count": 4,
      "metadata": {
        "colab": {
          "base_uri": "https://localhost:8080/"
        },
        "id": "kK69v7c46YOG",
        "outputId": "e00b3fb6-80f7-4d38-d5cd-360972301559"
      },
      "outputs": [
        {
          "output_type": "stream",
          "name": "stdout",
          "text": [
            "cuda\n"
          ]
        }
      ],
      "source": [
        "device = torch.device('cuda' if torch.cuda.is_available() else 'cpu')\n",
        "print(device)"
      ]
    },
    {
      "cell_type": "code",
      "execution_count": 4,
      "metadata": {
        "id": "BbX4vinNivCT"
      },
      "outputs": [],
      "source": [
        "# !mkdir ../root/.kaggle\n",
        "# !cp drive/MyDrive/kaggle/kaggle.json ../root/.kaggle/kaggle.json"
      ]
    },
    {
      "cell_type": "code",
      "execution_count": 5,
      "metadata": {
        "id": "ZAw76g4BkWyg"
      },
      "outputs": [],
      "source": [
        "import kaggle "
      ]
    },
    {
      "cell_type": "code",
      "execution_count": 6,
      "metadata": {
        "id": "UeNzCa9hmMmx",
        "colab": {
          "base_uri": "https://localhost:8080/"
        },
        "outputId": "cb46032b-b886-46f4-b656-12f6f224b367"
      },
      "outputs": [
        {
          "output_type": "stream",
          "name": "stdout",
          "text": [
            "Downloading cityscapes-image-pairs.zip to /content\n",
            " 96% 193M/202M [00:05<00:00, 48.5MB/s]\n",
            "100% 202M/202M [00:05<00:00, 39.3MB/s]\n"
          ]
        }
      ],
      "source": [
        "# !kaggle datasets download \"dansbecker/cityscapes-image-pairs\"\n"
      ]
    },
    {
      "cell_type": "code",
      "execution_count": null,
      "metadata": {
        "id": "P7ULw8c8n45W"
      },
      "outputs": [],
      "source": [
        "# !unzip cityscapes-image-pairs.zip"
      ]
    },
    {
      "cell_type": "code",
      "execution_count": 6,
      "metadata": {
        "id": "rsi1-Na0rZIg"
      },
      "outputs": [],
      "source": [
        "class UNETDataset(Dataset):\n",
        "\n",
        "  def __init__(self):\n",
        "    self.train_dir  = \"cityscapes_data/train\"\n",
        "    self.image_names = next(os.walk(self.train_dir))[2]\n",
        "    self.number_of_images = len(self.image_names)\n",
        "\n",
        "\n",
        "  def __len__(self):\n",
        "    return self.number_of_images\n",
        "\n",
        "  def __getitem__(self, index):\n",
        "      image_name = self.image_names[index]\n",
        "      image_data = Image.open(f\"{self.train_dir}/{image_name}\")\n",
        "\n",
        "      tensor_transform = transforms.ToTensor()\n",
        "\n",
        "      image_data = tensor_transform(image_data)\n",
        "\n",
        "      img = image_data[: , : ,  : 256 ]\n",
        "      mask = image_data[: , : , 256 : ]\n",
        "\n",
        "      # img = image_data[: , : ,  : 128 ]\n",
        "      # mask = image_data[: , : , 128 : ]\n",
        "\n",
        "      return img, mask\n",
        "\n"
      ]
    },
    {
      "cell_type": "code",
      "execution_count": 7,
      "metadata": {
        "id": "TW8YujOIqswX"
      },
      "outputs": [],
      "source": [
        "# DS = UNETDataset()\n",
        "# x,y = DS[0]\n",
        "# plt.imshow(y.permute(1,2,0))"
      ]
    },
    {
      "cell_type": "code",
      "execution_count": 138,
      "metadata": {
        "id": "mvzuCn7Ny8Ki"
      },
      "outputs": [],
      "source": [
        "batch_size = 32\n",
        "train_set = UNETDataset()\n",
        "train_loader = dataloader.DataLoader(train_set, batch_size = batch_size, shuffle = False, )"
      ]
    },
    {
      "cell_type": "code",
      "source": [
        "def bin_image(mask):\n",
        "    bins = np.arange(0,1,0.1, dtype=float)\n",
        "    new_mask = np.digitize(mask, bins)\n",
        "    return new_mask\n",
        "\n",
        "def getSegmentationArr(image, classes, width=256, height=256):\n",
        "    seg_labels = np.zeros((classes, height, width))\n",
        "    img = image[1, :, :,]\n",
        "\n",
        "    for c in range(classes):\n",
        "        seg_labels[c, :, :] = (img == c).astype(int)\n",
        "    return seg_labels\n",
        "\n",
        "\n"
      ],
      "metadata": {
        "id": "MXA_B0vZXeFQ"
      },
      "execution_count": 123,
      "outputs": []
    },
    {
      "cell_type": "code",
      "source": [
        "colors = sns.color_palette(\"hls\", 12)\n",
        "def ColorSegmentedImage(img, n_classes = 12):\n",
        "  mask = np.zeros((3, 256,256), dtype = float)\n",
        "\n",
        "  for i in range(n_classes):\n",
        "    indices = (img[i] == 1)\n",
        "    mask[0][indices] = colors[i][0]\n",
        "    mask[1][indices] = colors[i][1]\n",
        "    mask[2][indices] = colors[i][2]\n",
        "  return mask\n",
        "\n",
        "\n",
        "\n",
        "for (x,y) in train_loader:\n",
        "\n",
        "  # print(x.shape)\n",
        "  # print(y.shape)\n",
        "  img = x[10]\n",
        "  mask = y[10]\n",
        "\n",
        "  binned = bin_image(mask)\n",
        "  segmented = getSegmentationArr(binned, 12)\n",
        "  coloured = ColorSegmentedImage(segmented, 12)\n",
        "  plt.imshow(coloured.transpose(1,2,0))\n",
        "  # print(np.unique(colors).shape)\n",
        "  # print(np.unique(coloured).shape)\n",
        "\n",
        "\n",
        "\n",
        "  # mask = mask.permute(1,2,0)\n",
        "  # plt.imshow(mask)\n",
        "\n",
        "  # print(torch.unique(mask.reshape(-1, mask.shape[2]), dim=0).shape)\n",
        "  # print(mask.shape)\n",
        "\n",
        "\n",
        "  # (fig, ax) = plt.subplots(1,2)\n",
        "  # ax[0].imshow(img.permute(1,2,0))\n",
        "  # ax[1].imshow(mask.permute(1,2,0))\n",
        "  # fig.set_size_inches((10,10))\n",
        "  # plt.show()\n",
        "  break\n"
      ],
      "metadata": {
        "colab": {
          "base_uri": "https://localhost:8080/",
          "height": 269
        },
        "id": "PBQjiQLVAcy_",
        "outputId": "d3b6cb24-cbfc-4368-d9dc-2643e45bc1fe"
      },
      "execution_count": 139,
      "outputs": [
        {
          "output_type": "display_data",
          "data": {
            "text/plain": [
              "<Figure size 432x288 with 1 Axes>"
            ],
            "image/png": "[encoded data removed]"
          },
          "metadata": {
            "needs_background": "light"
          }
        }
      ]
    },
    {
      "cell_type": "code",
      "source": [
        "img = np.zeros((3, 256,256))\n",
        "img[[0], : 128, : 256] = np.full([1,128,256], fill_value = 255)\n",
        "img[[2], 128: , : 256] = np.full([1,128,256], fill_value = 255)\n",
        "# plt.imshow(img.transpose(1,2,0))\n",
        "\n",
        "img = torch.tensor(img)\n",
        "img = img.permute(1,2,0)\n",
        "img = img.reshape(-1, img.shape[2])\n",
        "print(img[:10])\n",
        "# print(torch.unique(img, dim=0, return_counts = True))\n"
      ],
      "metadata": {
        "colab": {
          "base_uri": "https://localhost:8080/"
        },
        "id": "BbPjR6jHO6sM",
        "outputId": "f6712861-282d-471b-f489-cd48348e0ebc"
      },
      "execution_count": 75,
      "outputs": [
        {
          "output_type": "stream",
          "name": "stdout",
          "text": [
            "tensor([[255.,   0.,   0.],\n",
            "        [255.,   0.,   0.],\n",
            "        [255.,   0.,   0.],\n",
            "        [255.,   0.,   0.],\n",
            "        [255.,   0.,   0.],\n",
            "        [255.,   0.,   0.],\n",
            "        [255.,   0.,   0.],\n",
            "        [255.,   0.,   0.],\n",
            "        [255.,   0.,   0.],\n",
            "        [255.,   0.,   0.]], dtype=torch.float64)\n"
          ]
        }
      ]
    },
    {
      "cell_type": "code",
      "execution_count": null,
      "metadata": {
        "id": "j1oPkxrA0T0M"
      },
      "outputs": [],
      "source": [
        "class UNET(nn.Module):\n",
        "  def __init__(self):\n",
        "\n",
        "    super().__init__()\n",
        "\n",
        "    self.learning_rate = 1e-4\n",
        "\n",
        "    # batch norm \n",
        "\n",
        "    self.Batch_Norm = nn.BatchNorm2d(num_features=3)\n",
        "\n",
        "    ## L1\n",
        "    self.conv_1_1 = nn.Conv2d(3, 64, 3, 1,padding = \"same\")\n",
        "    self.conv_1_2 = nn.Conv2d(64, 64, 3, 1, padding = \"same\")\n",
        "    self.dropout_1 = nn.Dropout2d(0.2)\n",
        "\n",
        "    self.max_pool_1 = nn.MaxPool2d(kernel_size = 2, return_indices = True)\n",
        "\n",
        "    ## L2\n",
        "    self.conv_2_1 = nn.Conv2d(64, 128, 3, 1,padding = \"same\")\n",
        "    self.conv_2_2 = nn.Conv2d(128, 128, 3, 1, padding = \"same\")\n",
        "    self.dropout_2 = nn.Dropout2d(0.2)\n",
        "\n",
        "    self.max_pool_2 = nn.MaxPool2d(kernel_size = 2, return_indices = True)\n",
        "\n",
        "    ## L3\n",
        "    self.conv_3_1 = nn.Conv2d(128,256, 3, 1,padding = \"same\")\n",
        "    self.conv_3_2 = nn.Conv2d(256, 256, 3, 1, padding = \"same\")\n",
        "    self.dropout_3 = nn.Dropout2d(0.2)\n",
        "\n",
        "    self.max_pool_3 = nn.MaxPool2d(kernel_size = 2, return_indices = True)\n",
        "\n",
        "    ## L4\n",
        "    self.conv_4_1 = nn.Conv2d(256, 512, 3, 1,padding = \"same\")\n",
        "    self.conv_4_2 = nn.Conv2d(512, 512, 3, 1, padding = \"same\")\n",
        "    self.dropout_4 = nn.Dropout2d(0.2)\n",
        "\n",
        "    self.max_pool_4 = nn.MaxPool2d(kernel_size = 2, return_indices = True)\n",
        "\n",
        "    ## L5\n",
        "    self.conv_5_1 = nn.Conv2d(512, 1024, 1,padding = \"same\")\n",
        "    self.conv_5_2 = nn.Conv2d(1024, 1024, 3, 1, padding = \"same\")\n",
        "    self.dropout_5 = nn.Dropout2d(0.2)\n",
        "\n",
        "    ##UP 1\n",
        "    self.deconv1_1 = nn.ConvTranspose2d(1024, 512, 3, padding = 1, stride=2, output_padding = 1)\n",
        "    self.deconv1_2 = nn.Conv2d(1024, 512, 3, 1, padding = \"same\")\n",
        "    self.deconv1_3 = nn.Conv2d(512, 512, 3, 1, padding = \"same\")\n",
        "    self.dropout_6 = nn.Dropout2d(0.2)\n",
        "\n",
        "\n",
        "    ##UP 2\n",
        "    self.deconv2_1 = nn.ConvTranspose2d(512, 256, 3, padding = 1, stride = 2, output_padding = 1)\n",
        "    self.deconv2_2 = nn.Conv2d(512, 256, 3, 1, padding = \"same\")\n",
        "    self.deconv2_3 = nn.Conv2d(256, 256, 3, 1, padding = \"same\")\n",
        "    self.dropout_7 = nn.Dropout2d(0.2)\n",
        "\n",
        "\n",
        "    ##UP 3\n",
        "    self.deconv3_1 = nn.ConvTranspose2d(256, 128, 3, padding = 1, stride = 2, output_padding = 1)\n",
        "    self.deconv3_2 = nn.Conv2d(256, 128, 3, 1, padding = \"same\")\n",
        "    self.deconv3_3 = nn.Conv2d(128, 128, 3, 1, padding = \"same\")\n",
        "    self.dropout_8 = nn.Dropout2d(0.2)\n",
        "\n",
        "\n",
        "    ##UP 4\n",
        "    self.deconv4_1 = nn.ConvTranspose2d(128, 64, 3, padding = 1, stride = 2, output_padding = 1)\n",
        "    self.deconv4_2 = nn.Conv2d(128, 64, 3, 1, padding = 1)\n",
        "    self.deconv4_3 = nn.Conv2d(64, 64, 3, 1, padding = \"same\")\n",
        "    self.dropout_9 = nn.Dropout2d(0.2)\n",
        "\n",
        "\n",
        "    ##UP 4\n",
        "    self.deconv5_1 = nn.Conv2d(64, 64, 3, 1, padding = \"same\")\n",
        "    self.deconv5_2 = nn.Conv2d(64, 3, 1, 1, padding = \"same\")\n",
        "\n",
        "\n",
        "\n",
        "\n",
        "\n",
        "\n",
        "\n",
        "  def forward(self, x):\n",
        "    x = self.Batch_Norm(x)\n",
        "    L1_1 = self.conv_1_1(x)\n",
        "    L1_1 = F.relu(L1_1)\n",
        "    L1_2 = self.conv_1_2(L1_1)\n",
        "    L1_2 = F.relu(L1_2)\n",
        "    L1_2 = self.dropout_1(L1_2)\n",
        "\n",
        "\n",
        "    L1_MAX, L1_indices = self.max_pool_1(L1_2)\n",
        "\n",
        "    L2_1 = self.conv_2_1(L1_MAX)\n",
        "    L2_1 = F.relu(L2_1)\n",
        "    L2_2 = self.conv_2_2(L2_1)\n",
        "    L2_2 = F.relu(L2_2)\n",
        "    L2_2 = self.dropout_2(L2_2)\n",
        "\n",
        "    L2_MAX, L2_indices = self.max_pool_2(L2_2)\n",
        "\n",
        "    L3_1 = self.conv_3_1(L2_MAX)\n",
        "    L3_1 = F.relu(L3_1)\n",
        "    L3_2 = self.conv_3_2(L3_1)\n",
        "    L3_2 = F.relu(L3_2)\n",
        "    L3_2 = self.dropout_3(L3_2)\n",
        "\n",
        "    L3_MAX, L3_indices = self.max_pool_3(L3_2)\n",
        "\n",
        "    L4_1 = self.conv_4_1(L3_MAX)\n",
        "    L4_1 = F.relu(L4_1)\n",
        "    L4_2 = self.conv_4_2(L4_1)\n",
        "    L4_2 = F.relu(L4_2)\n",
        "    L4_2 = self.dropout_4(L4_2)\n",
        "\n",
        "    L4_MAX, L4_indices = self.max_pool_4(L4_2)\n",
        "\n",
        "    L5_1 = self.conv_5_1(L4_MAX)\n",
        "    L5_1 = F.relu(L5_1)\n",
        "    L5_2 = self.conv_5_2(L5_1)\n",
        "    L5_2 = F.relu(L5_2)\n",
        "    L5_2 = self.dropout_5(L5_2)\n",
        "\n",
        "    ## Expansive Path\n",
        "\n",
        "    D1_1 = self.deconv1_1(L5_2)\n",
        "    skip_connection_1 = torch.cat([L4_2, D1_1], dim = 1)\n",
        "    D1_2 = self.deconv1_2(skip_connection_1)\n",
        "    D1_2 = F.relu(D1_2)\n",
        "    D1_3 = self.deconv1_3(D1_2)\n",
        "    D1_3 = F.relu(D1_3)\n",
        "    D1_3 = self.dropout_6(D1_3)\n",
        "\n",
        "    D2_1 = self.deconv2_1(D1_2)\n",
        "    skip_connection_2 = torch.cat([L3_2, D2_1], dim = 1)\n",
        "    D2_2 = self.deconv2_2(skip_connection_2)\n",
        "    D2_2 = F.relu(D2_2)\n",
        "    D2_3 = self.deconv2_3(D2_2)\n",
        "    D2_3 = F.relu(D2_3)\n",
        "    D2_3 = self.dropout_7(D2_3)\n",
        "\n",
        "    D3_1 = self.deconv3_1(D2_2)\n",
        "    skip_connection_3 = torch.cat([L2_2, D3_1], dim = 1)\n",
        "    D3_2 = self.deconv3_2(skip_connection_3)\n",
        "    D3_2 = F.relu(D3_2)\n",
        "    D3_3 = self.deconv3_3(D3_2)\n",
        "    D3_3 = F.relu(D3_3)\n",
        "    D3_3 = self.dropout_8(D3_3)\n",
        "\n",
        "    D4_1 = self.deconv4_1(D3_2)\n",
        "    skip_connection_4 = torch.cat([L1_2, D4_1], dim = 1)\n",
        "    D4_2 = self.deconv4_2(skip_connection_4)\n",
        "    D4_2 = F.relu(D4_2)\n",
        "    D4_3 = self.deconv4_3(D4_2)\n",
        "    D4_3 = F.relu(D4_3)\n",
        "    D4_3 = self.dropout_9(D4_3)\n",
        "\n",
        "    D5_1 = self.deconv5_1(D4_2)\n",
        "    D5_2 = self.deconv5_2(D5_1)\n",
        "    D5_2 = torch.sigmoid(D5_2)\n",
        "\n",
        "\n",
        "\n",
        "    return D5_2"
      ]
    },
    {
      "cell_type": "code",
      "execution_count": null,
      "metadata": {
        "id": "TImLyzWikrz9"
      },
      "outputs": [],
      "source": [
        ""
      ]
    },
    {
      "cell_type": "code",
      "execution_count": null,
      "metadata": {
        "id": "7OjU9KVCga8f"
      },
      "outputs": [],
      "source": [
        "NET = UNET()\n",
        "NET = NET.to(device)\n",
        "Optimizer = torch.optim.Adam(NET.parameters(), lr = NET.learning_rate)\n",
        "Loss = nn.CrossEntropyLoss()\n",
        "\n",
        "EPOCHS = 10\n",
        "num_batches = 100 \n"
      ]
    },
    {
      "cell_type": "code",
      "execution_count": null,
      "metadata": {
        "id": "KfzdiEie0Ctd",
        "colab": {
          "base_uri": "https://localhost:8080/"
        },
        "outputId": "d91cad85-9754-4c1c-ad8a-85d6f4ab2f81"
      },
      "outputs": [
        {
          "output_type": "stream",
          "name": "stdout",
          "text": [
            "Batch Number:  1  /  93  LOSS: 0\n",
            "Batch Number:  11  /  93  LOSS: 11.529406547546387\n",
            "Batch Number:  21  /  93  LOSS: 11.561365008354187\n",
            "Batch Number:  31  /  93  LOSS: 11.487743735313416\n",
            "Batch Number:  41  /  93  LOSS: 11.43239140510559\n",
            "Batch Number:  51  /  93  LOSS: 11.391711115837097\n",
            "Batch Number:  61  /  93  LOSS: 11.347877383232117\n",
            "Batch Number:  71  /  93  LOSS: 11.319215059280396\n",
            "Batch Number:  81  /  93  LOSS: 11.279861330986023\n",
            "Batch Number:  91  /  93  LOSS: 11.339463829994202\n",
            "Epoch #1 complete, LOSS: 106.05057668685913\n",
            "Batch Number:  1  /  93  LOSS: 0\n",
            "Batch Number:  11  /  93  LOSS: 11.15641701221466\n",
            "Batch Number:  21  /  93  LOSS: 11.193411350250244\n",
            "Batch Number:  31  /  93  LOSS: 11.198715567588806\n",
            "Batch Number:  41  /  93  LOSS: 11.228243589401245\n",
            "Batch Number:  51  /  93  LOSS: 11.217595338821411\n",
            "Batch Number:  61  /  93  LOSS: 11.19710648059845\n",
            "Batch Number:  71  /  93  LOSS: 11.19827115535736\n",
            "Batch Number:  81  /  93  LOSS: 11.143177151679993\n",
            "Batch Number:  91  /  93  LOSS: 11.244785785675049\n",
            "Epoch #2 complete, LOSS: 104.10698068141937\n",
            "Batch Number:  1  /  93  LOSS: 0\n",
            "Batch Number:  11  /  93  LOSS: 11.068329811096191\n",
            "Batch Number:  21  /  93  LOSS: 11.127763152122498\n",
            "Batch Number:  31  /  93  LOSS: 11.123968362808228\n",
            "Batch Number:  41  /  93  LOSS: 11.155251383781433\n",
            "Batch Number:  51  /  93  LOSS: 11.157831192016602\n",
            "Batch Number:  61  /  93  LOSS: 11.136600852012634\n",
            "Batch Number:  71  /  93  LOSS: 11.15113890171051\n",
            "Batch Number:  81  /  93  LOSS: 11.091827511787415\n",
            "Batch Number:  91  /  93  LOSS: 11.191353797912598\n",
            "Epoch #3 complete, LOSS: 103.5189288854599\n",
            "Batch Number:  1  /  93  LOSS: 0\n",
            "Batch Number:  11  /  93  LOSS: 11.03697657585144\n",
            "Batch Number:  21  /  93  LOSS: 11.096091747283936\n",
            "Batch Number:  31  /  93  LOSS: 11.094356179237366\n",
            "Batch Number:  41  /  93  LOSS: 11.126016736030579\n",
            "Batch Number:  51  /  93  LOSS: 11.13154423236847\n",
            "Batch Number:  61  /  93  LOSS: 11.114373087882996\n",
            "Batch Number:  71  /  93  LOSS: 11.125657200813293\n",
            "Batch Number:  81  /  93  LOSS: 11.065654873847961\n",
            "Batch Number:  91  /  93  LOSS: 11.163362741470337\n",
            "Epoch #4 complete, LOSS: 103.26081681251526\n",
            "Batch Number:  1  /  93  LOSS: 0\n",
            "Batch Number:  11  /  93  LOSS: 11.007754564285278\n",
            "Batch Number:  21  /  93  LOSS: 11.070221900939941\n",
            "Batch Number:  31  /  93  LOSS: 11.080596566200256\n",
            "Batch Number:  41  /  93  LOSS: 11.100648403167725\n",
            "Batch Number:  51  /  93  LOSS: 11.112631678581238\n",
            "Batch Number:  61  /  93  LOSS: 11.092326164245605\n",
            "Batch Number:  71  /  93  LOSS: 11.103955745697021\n",
            "Batch Number:  81  /  93  LOSS: 11.044878005981445\n",
            "Batch Number:  91  /  93  LOSS: 11.144477248191833\n",
            "Epoch #5 complete, LOSS: 103.0569132566452\n",
            "Batch Number:  1  /  93  LOSS: 0\n",
            "Batch Number:  11  /  93  LOSS: 10.99072790145874\n",
            "Batch Number:  21  /  93  LOSS: 11.053002119064331\n",
            "Batch Number:  31  /  93  LOSS: 11.060805678367615\n",
            "Batch Number:  41  /  93  LOSS: 11.082734823226929\n",
            "Batch Number:  51  /  93  LOSS: 11.096227049827576\n",
            "Batch Number:  61  /  93  LOSS: 11.072982788085938\n",
            "Batch Number:  71  /  93  LOSS: 11.089993596076965\n",
            "Batch Number:  81  /  93  LOSS: 11.02566909790039\n",
            "Batch Number:  91  /  93  LOSS: 11.117366433143616\n",
            "Epoch #6 complete, LOSS: 102.88353657722473\n",
            "Batch Number:  1  /  93  LOSS: 0\n",
            "Batch Number:  11  /  93  LOSS: 10.974265217781067\n",
            "Batch Number:  21  /  93  LOSS: 11.03078806400299\n",
            "Batch Number:  31  /  93  LOSS: 11.045070171356201\n",
            "Batch Number:  41  /  93  LOSS: 11.067431688308716\n",
            "Batch Number:  51  /  93  LOSS: 11.075486898422241\n",
            "Batch Number:  61  /  93  LOSS: 11.053222060203552\n",
            "Batch Number:  71  /  93  LOSS: 11.065306425094604\n",
            "Batch Number:  81  /  93  LOSS: 11.007908582687378\n",
            "Batch Number:  91  /  93  LOSS: 11.110028624534607\n",
            "Epoch #7 complete, LOSS: 102.71721005439758\n",
            "Batch Number:  1  /  93  LOSS: 0\n",
            "Batch Number:  11  /  93  LOSS: 10.953296542167664\n",
            "Batch Number:  21  /  93  LOSS: 11.018404126167297\n",
            "Batch Number:  31  /  93  LOSS: 11.025635480880737\n",
            "Batch Number:  41  /  93  LOSS: 11.050384640693665\n",
            "Batch Number:  51  /  93  LOSS: 11.063573122024536\n",
            "Batch Number:  61  /  93  LOSS: 11.043262362480164\n",
            "Batch Number:  71  /  93  LOSS: 11.055145025253296\n",
            "Batch Number:  81  /  93  LOSS: 10.998818159103394\n",
            "Batch Number:  91  /  93  LOSS: 11.104129672050476\n",
            "Epoch #8 complete, LOSS: 102.59581983089447\n",
            "Batch Number:  1  /  93  LOSS: 0\n",
            "Batch Number:  11  /  93  LOSS: 10.944286823272705\n",
            "Batch Number:  21  /  93  LOSS: 11.009379148483276\n",
            "Batch Number:  31  /  93  LOSS: 11.01513409614563\n",
            "Batch Number:  41  /  93  LOSS: 11.042975783348083\n",
            "Batch Number:  51  /  93  LOSS: 11.047086834907532\n",
            "Batch Number:  61  /  93  LOSS: 11.027789235115051\n",
            "Batch Number:  71  /  93  LOSS: 11.041851043701172\n",
            "Batch Number:  81  /  93  LOSS: 10.990385174751282\n",
            "Batch Number:  91  /  93  LOSS: 11.085748076438904\n",
            "Epoch #9 complete, LOSS: 102.4837235212326\n",
            "Batch Number:  1  /  93  LOSS: 0\n",
            "Batch Number:  11  /  93  LOSS: 10.934262156486511\n",
            "Batch Number:  21  /  93  LOSS: 11.001898765563965\n",
            "Batch Number:  31  /  93  LOSS: 11.005040645599365\n",
            "Batch Number:  41  /  93  LOSS: 11.026984214782715\n",
            "Batch Number:  51  /  93  LOSS: 11.040863513946533\n",
            "Batch Number:  61  /  93  LOSS: 11.019678711891174\n",
            "Batch Number:  71  /  93  LOSS: 11.03450095653534\n",
            "Batch Number:  81  /  93  LOSS: 10.98166561126709\n",
            "Batch Number:  91  /  93  LOSS: 11.072250723838806\n",
            "Epoch #10 complete, LOSS: 102.3938752412796\n"
          ]
        }
      ],
      "source": [
        "for epoch in range(EPOCHS):\n",
        "  Epoch_loss = 0\n",
        "  group_loss = 0\n",
        "  for i, (x,y) in enumerate(train_loader):\n",
        "\n",
        "    if (i % 10 == 0):\n",
        "      print(\"Batch Number: \", i + 1, \" / \", len(train_loader), \" LOSS: \" + str(group_loss))\n",
        "      group_loss = 0 \n",
        "    \n",
        "\n",
        "    x = x.to(device)\n",
        "    y = y.to(device)\n",
        "\n",
        "    output = NET(x)\n",
        "\n",
        "    Optimizer.zero_grad()\n",
        "    loss = Loss(output, y)\n",
        "    loss.backward()\n",
        "    Optimizer.step()\n",
        "\n",
        "    Epoch_loss += loss.item()\n",
        "    group_loss += loss.item()\n",
        "\n",
        "  print(f\"Epoch #{epoch + 1 } complete, LOSS: {Epoch_loss}\")\n"
      ]
    },
    {
      "cell_type": "code",
      "execution_count": null,
      "metadata": {
        "id": "GwW_V-ChL93w"
      },
      "outputs": [],
      "source": [
        "class UNETDatasetTest(Dataset):\n",
        "\n",
        "  def __init__(self):\n",
        "    self.train_dir  = \"cityscapes_data/val\"\n",
        "    self.image_names = next(os.walk(self.train_dir))[2]\n",
        "    self.number_of_images = len(self.image_names)\n",
        "\n",
        "\n",
        "  def __len__(self):\n",
        "    return self.number_of_images\n",
        "\n",
        "  def __getitem__(self, index):\n",
        "      image_name = self.image_names[index]\n",
        "      image_data = Image.open(f\"{self.train_dir}/{image_name}\")\n",
        "\n",
        "      tensor_transform = transforms.ToTensor()\n",
        "      resize_transform = transforms.Resize((64,128))\n",
        "\n",
        "      image_data = tensor_transform(image_data)\n",
        "      image_data = resize_transform(image_data)\n",
        "\n",
        "      # img = image_data[: , : ,  : 256 ]\n",
        "      # mask = image_data[: , : , 256 : ]\n",
        "\n",
        "      img = image_data[: , : ,  : 64 ]\n",
        "      mask = image_data[: , : , 64 : ]\n",
        "\n",
        "      return img, mask"
      ]
    },
    {
      "cell_type": "code",
      "execution_count": null,
      "metadata": {
        "id": "DcvlzWgXMfo-"
      },
      "outputs": [],
      "source": [
        "# torch.save(NET.state_dict, \"/saved_UNET_64x64\")"
      ]
    },
    {
      "cell_type": "code",
      "execution_count": null,
      "metadata": {
        "colab": {
          "base_uri": "https://localhost:8080/",
          "height": 236
        },
        "id": "JTC0z-S1MFNR",
        "outputId": "b47658a3-145f-4c4f-df4a-06f623f841f8"
      },
      "outputs": [
        {
          "output_type": "execute_result",
          "data": {
            "text/plain": [
              "<matplotlib.image.AxesImage at 0x7f80100d4e90>"
            ]
          },
          "metadata": {},
          "execution_count": 62
        },
        {
          "output_type": "display_data",
          "data": {
            "text/plain": [
              "<Figure size 432x288 with 1 Axes>"
            ],
            "image/png": "[encoded data removed]"
          },
          "metadata": {
            "needs_background": "light"
          }
        }
      ],
      "source": [
        "testset = UNETDatasetTest()\n",
        "\n",
        "x,y = testset[34]\n",
        "x = x.unsqueeze(dim = 0)\n",
        "output = NET(x.to(device))\n",
        "img = output.squeeze(dim = 0).permute(1,2,0).detach().cpu().numpy()\n",
        "# img = x.permute(1,2,0).detach().numpy()\n",
        "mask = y.permute(1,2,0).detach().numpy()\n",
        "\n",
        "pixels = np.concatenate((img, mask), axis = 1)\n",
        "plt.imshow(pixels)\n"
      ]
    }
  ],
  "metadata": {
    "accelerator": "GPU",
    "colab": {
      "collapsed_sections": [],
      "name": "U-Net",
      "provenance": [],
      "authorship_tag": "ABX9TyNggrpjS3O8uZplSBCUI0eE",
      "include_colab_link": true
    },
    "gpuClass": "standard",
    "kernelspec": {
      "display_name": "Python 3",
      "name": "python3"
    },
    "language_info": {
      "name": "python"
    }
  },
  "nbformat": 4,
  "nbformat_minor": 0
}