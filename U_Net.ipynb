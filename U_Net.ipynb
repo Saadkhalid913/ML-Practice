{
  "cells": [
    {
      "cell_type": "markdown",
      "metadata": {
        "id": "view-in-github",
        "colab_type": "text"
      },
      "source": [
        "<a href=\"https://colab.research.google.com/github/Saadkhalid913/ML-Practice/blob/main/U_Net.ipynb\" target=\"_parent\"><img src=\"https://colab.research.google.com/assets/colab-badge.svg\" alt=\"Open In Colab\"/></a>"
      ]
    },
    {
      "cell_type": "code",
      "execution_count": 84,
      "metadata": {
        "id": "ig_scI79jLd-"
      },
      "outputs": [],
      "source": [
        "# !pip install kaggle "
      ]
    },
    {
      "cell_type": "code",
      "execution_count": 85,
      "metadata": {
        "colab": {
          "base_uri": "https://localhost:8080/"
        },
        "id": "15Iq96nCiuou",
        "outputId": "aaa4c8d3-3973-4411-d6ca-7338588dfa56"
      },
      "outputs": [
        {
          "output_type": "stream",
          "name": "stdout",
          "text": [
            "Drive already mounted at drive; to attempt to forcibly remount, call drive.mount(\"drive\", force_remount=True).\n"
          ]
        }
      ],
      "source": [
        "import torchvision.transforms as transforms \n",
        "import torch.nn.functional as F \n",
        "import torch.nn as nn\n",
        "import numpy as np\n",
        "import os \n",
        "import matplotlib.pyplot as plt \n",
        "from PIL import Image\n",
        "import google.colab.drive as drive \n",
        "from torch.utils.data import Dataset, dataloader\n",
        "import torch\n",
        "import tensorflow as tf \n",
        "import tqdm\n",
        "drive.mount(\"drive\")"
      ]
    },
    {
      "cell_type": "code",
      "execution_count": 86,
      "metadata": {
        "colab": {
          "base_uri": "https://localhost:8080/"
        },
        "id": "kK69v7c46YOG",
        "outputId": "354685af-386a-447b-94c9-e055d7dba182"
      },
      "outputs": [
        {
          "output_type": "stream",
          "name": "stdout",
          "text": [
            "cuda\n"
          ]
        }
      ],
      "source": [
        "device = torch.device('cuda' if torch.cuda.is_available() else 'cpu')\n",
        "print(device)"
      ]
    },
    {
      "cell_type": "code",
      "execution_count": 87,
      "metadata": {
        "id": "BbX4vinNivCT"
      },
      "outputs": [],
      "source": [
        "# !mkdir ../root/.kaggle\n",
        "# !cp drive/MyDrive/kaggle/kaggle.json ../root/.kaggle/kaggle.json"
      ]
    },
    {
      "cell_type": "code",
      "execution_count": 88,
      "metadata": {
        "id": "ZAw76g4BkWyg"
      },
      "outputs": [],
      "source": [
        "import kaggle "
      ]
    },
    {
      "cell_type": "code",
      "execution_count": 89,
      "metadata": {
        "id": "UeNzCa9hmMmx"
      },
      "outputs": [],
      "source": [
        "# !kaggle datasets download \"dansbecker/cityscapes-image-pairs\"\n"
      ]
    },
    {
      "cell_type": "code",
      "execution_count": 90,
      "metadata": {
        "id": "P7ULw8c8n45W"
      },
      "outputs": [],
      "source": [
        "# !unzip cityscapes-image-pairs.zip"
      ]
    },
    {
      "cell_type": "code",
      "execution_count": 91,
      "metadata": {
        "id": "rsi1-Na0rZIg"
      },
      "outputs": [],
      "source": [
        "class UNETDataset(Dataset):\n",
        "\n",
        "  def __init__(self):\n",
        "    self.train_dir  = \"cityscapes_data/train\"\n",
        "    self.image_names = next(os.walk(self.train_dir))[2]\n",
        "    self.number_of_images = len(self.image_names)\n",
        "\n",
        "\n",
        "  def __len__(self):\n",
        "    return self.number_of_images\n",
        "\n",
        "  def __getitem__(self, index):\n",
        "      image_name = self.image_names[index]\n",
        "      image_data = Image.open(f\"{self.train_dir}/{image_name}\")\n",
        "\n",
        "      tensor_transform = transforms.ToTensor()\n",
        "      resize_transform = transforms.Resize((128,256))\n",
        "\n",
        "      image_data = tensor_transform(image_data)\n",
        "      # image_data = resize_transform(image_data)\n",
        "\n",
        "      img = image_data[: , : ,  : 256 ]\n",
        "      mask = image_data[: , : , 256 : ]\n",
        "\n",
        "      # img = image_data[: , : ,  : 128 ]\n",
        "      # mask = image_data[: , : , 128 : ]\n",
        "\n",
        "      return img, mask\n",
        "\n"
      ]
    },
    {
      "cell_type": "code",
      "execution_count": 92,
      "metadata": {
        "id": "TW8YujOIqswX"
      },
      "outputs": [],
      "source": [
        "# DS = UNETDataset()\n",
        "# x,y = DS[0]\n",
        "# plt.imshow(y.permute(1,2,0))"
      ]
    },
    {
      "cell_type": "code",
      "execution_count": 93,
      "metadata": {
        "id": "mvzuCn7Ny8Ki"
      },
      "outputs": [],
      "source": [
        "batch_size = 32\n",
        "train_set = UNETDataset()\n",
        "train_loader = dataloader.DataLoader(train_set, batch_size = batch_size, shuffle = False, )"
      ]
    },
    {
      "cell_type": "code",
      "execution_count": 94,
      "metadata": {
        "id": "j1oPkxrA0T0M"
      },
      "outputs": [],
      "source": [
        "class UNET(nn.Module):\n",
        "  def __init__(self):\n",
        "\n",
        "    super().__init__()\n",
        "\n",
        "    self.learning_rate = 1e-5\n",
        "\n",
        "    # batch norm \n",
        "\n",
        "    self.Batch_Norm = nn.BatchNorm2d(num_features=3)\n",
        "\n",
        "    ## L1\n",
        "    self.conv_1_1 = nn.Conv2d(3, 64, 3, 1,padding = \"same\")\n",
        "    self.conv_1_2 = nn.Conv2d(64, 64, 3, 1, padding = \"same\")\n",
        "\n",
        "    self.max_pool_1 = nn.MaxPool2d(kernel_size = 2, return_indices = True)\n",
        "\n",
        "    ## L2\n",
        "    self.conv_2_1 = nn.Conv2d(64, 128, 3, 1,padding = \"same\")\n",
        "    self.conv_2_2 = nn.Conv2d(128, 128, 3, 1, padding = \"same\")\n",
        "\n",
        "    self.max_pool_2 = nn.MaxPool2d(kernel_size = 2, return_indices = True)\n",
        "\n",
        "    ## L3\n",
        "    self.conv_3_1 = nn.Conv2d(128,256, 3, 1,padding = \"same\")\n",
        "    self.conv_3_2 = nn.Conv2d(256, 256, 3, 1, padding = \"same\")\n",
        "\n",
        "    self.max_pool_3 = nn.MaxPool2d(kernel_size = 2, return_indices = True)\n",
        "\n",
        "    ## L4\n",
        "    self.conv_4_1 = nn.Conv2d(256, 512, 3, 1,padding = \"same\")\n",
        "    self.conv_4_2 = nn.Conv2d(512, 512, 3, 1, padding = \"same\")\n",
        "\n",
        "    self.max_pool_4 = nn.MaxPool2d(kernel_size = 2, return_indices = True)\n",
        "\n",
        "    ## L5\n",
        "    self.conv_5_1 = nn.Conv2d(512, 1024, 1,padding = \"same\")\n",
        "    self.conv_5_2 = nn.Conv2d(1024, 1024, 3, 1, padding = \"same\")\n",
        "\n",
        "    ##UP 1\n",
        "    self.deconv1_1 = nn.ConvTranspose2d(1024, 512, 3, padding = 1, stride=2, output_padding = 1)\n",
        "    self.deconv1_2 = nn.Conv2d(1024, 512, 3, 1, padding = \"same\")\n",
        "    self.deconv1_3 = nn.Conv2d(512, 512, 3, 1, padding = \"same\")\n",
        "\n",
        "\n",
        "    ##UP 2\n",
        "    self.deconv2_1 = nn.ConvTranspose2d(512, 256, 3, padding = 1, stride = 2, output_padding = 1)\n",
        "    self.deconv2_2 = nn.Conv2d(512, 256, 3, 1, padding = \"same\")\n",
        "    self.deconv2_3 = nn.Conv2d(256, 256, 3, 1, padding = \"same\")\n",
        "\n",
        "\n",
        "    ##UP 3\n",
        "    self.deconv3_1 = nn.ConvTranspose2d(256, 128, 3, padding = 1, stride = 2, output_padding = 1)\n",
        "    self.deconv3_2 = nn.Conv2d(256, 128, 3, 1, padding = \"same\")\n",
        "    self.deconv3_3 = nn.Conv2d(128, 128, 3, 1, padding = \"same\")\n",
        "\n",
        "\n",
        "    ##UP 4\n",
        "    self.deconv4_1 = nn.ConvTranspose2d(128, 64, 3, padding = 1, stride = 2, output_padding = 1)\n",
        "    self.deconv4_2 = nn.Conv2d(128, 64, 3, 1, padding = 1)\n",
        "    self.deconv4_3 = nn.Conv2d(64, 64, 3, 1, padding = \"same\")\n",
        "\n",
        "\n",
        "    ##UP 4\n",
        "    self.deconv5_1 = nn.Conv2d(64, 64, 3, 1, padding = \"same\")\n",
        "    self.deconv5_2 = nn.Conv2d(64, 3, 1, 1, padding = \"same\")\n",
        "\n",
        "\n",
        "\n",
        "\n",
        "\n",
        "\n",
        "\n",
        "  def forward(self, x):\n",
        "    x = self.Batch_Norm(x)\n",
        "    L1_1 = self.conv_1_1(x)\n",
        "    L1_1 = F.relu(L1_1)\n",
        "    L1_2 = self.conv_1_2(L1_1)\n",
        "    L1_2 = F.relu(L1_2)\n",
        "\n",
        "    L1_MAX, L1_indices = self.max_pool_1(L1_2)\n",
        "\n",
        "    L2_1 = self.conv_2_1(L1_MAX)\n",
        "    L2_1 = F.relu(L2_1)\n",
        "    L2_2 = self.conv_2_2(L2_1)\n",
        "    L2_2 = F.relu(L2_2)\n",
        "\n",
        "    L2_MAX, L2_indices = self.max_pool_2(L2_2)\n",
        "\n",
        "    L3_1 = self.conv_3_1(L2_MAX)\n",
        "    L3_1 = F.relu(L3_1)\n",
        "    L3_2 = self.conv_3_2(L3_1)\n",
        "    L3_2 = F.relu(L3_2)\n",
        "\n",
        "    L3_MAX, L3_indices = self.max_pool_3(L3_2)\n",
        "\n",
        "    L4_1 = self.conv_4_1(L3_MAX)\n",
        "    L4_1 = F.relu(L4_1)\n",
        "    L4_2 = self.conv_4_2(L4_1)\n",
        "    L4_2 = F.relu(L4_2)\n",
        "\n",
        "    L4_MAX, L4_indices = self.max_pool_4(L4_2)\n",
        "\n",
        "    L5_1 = self.conv_5_1(L4_MAX)\n",
        "    L5_1 = F.relu(L5_1)\n",
        "    L5_2 = self.conv_5_2(L5_1)\n",
        "    L5_2 = F.relu(L5_2)\n",
        "\n",
        "    ## Expansive Path\n",
        "\n",
        "    D1_1 = self.deconv1_1(L5_2)\n",
        "    skip_connection_1 = torch.cat([L4_2, D1_1], dim = 1)\n",
        "    D1_2 = self.deconv1_2(skip_connection_1)\n",
        "    D1_2 = F.relu(D1_2)\n",
        "    D1_3 = self.deconv1_3(D1_2)\n",
        "    D1_3 = F.relu(D1_3)\n",
        "\n",
        "    D2_1 = self.deconv2_1(D1_2)\n",
        "    skip_connection_2 = torch.cat([L3_2, D2_1], dim = 1)\n",
        "    D2_2 = self.deconv2_2(skip_connection_2)\n",
        "    D2_2 = F.relu(D2_2)\n",
        "    D2_3 = self.deconv2_3(D2_2)\n",
        "    D2_3 = F.relu(D2_3)\n",
        "\n",
        "    D3_1 = self.deconv3_1(D2_2)\n",
        "    skip_connection_3 = torch.cat([L2_2, D3_1], dim = 1)\n",
        "    D3_2 = self.deconv3_2(skip_connection_3)\n",
        "    D3_2 = F.relu(D3_2)\n",
        "    D3_3 = self.deconv3_3(D3_2)\n",
        "    D3_3 = F.relu(D3_3)\n",
        "\n",
        "    D4_1 = self.deconv4_1(D3_2)\n",
        "    skip_connection_4 = torch.cat([L1_2, D4_1], dim = 1)\n",
        "    D4_2 = self.deconv4_2(skip_connection_4)\n",
        "    D4_2 = F.relu(D4_2)\n",
        "    D4_3 = self.deconv4_3(D4_2)\n",
        "    D4_3 = F.relu(D4_3)\n",
        "\n",
        "    D5_1 = self.deconv5_1(D4_2)\n",
        "    D5_2 = self.deconv5_2(D5_1)\n",
        "    D5_2 = torch.sigmoid(D5_2)\n",
        "\n",
        "\n",
        "\n",
        "    return D5_2"
      ]
    },
    {
      "cell_type": "code",
      "execution_count": 94,
      "metadata": {
        "id": "TImLyzWikrz9"
      },
      "outputs": [],
      "source": [
        ""
      ]
    },
    {
      "cell_type": "code",
      "execution_count": 95,
      "metadata": {
        "id": "7OjU9KVCga8f"
      },
      "outputs": [],
      "source": [
        "NET = UNET()\n",
        "NET = NET.to(device)\n",
        "Optimizer = torch.optim.Adam(NET.parameters(), lr = NET.learning_rate)\n",
        "Loss = nn.BCELoss()\n",
        "\n",
        "EPOCHS = 10\n",
        "num_batches = 100 \n"
      ]
    },
    {
      "cell_type": "code",
      "execution_count": null,
      "metadata": {
        "id": "KfzdiEie0Ctd"
      },
      "outputs": [],
      "source": [
        "for epoch in range(EPOCHS):\n",
        "  Epoch_loss = 0\n",
        "  group_loss = 0\n",
        "  for i, (x,y) in enumerate(train_loader):\n",
        "\n",
        "    if (i % 10 == 0):\n",
        "      print(\"Batch Number: \", i + 1, \" / \", len(train_loader), \" LOSS: \" + str(group_loss))\n",
        "      group_loss = 0 \n",
        "    \n",
        "\n",
        "    x = x.to(device)\n",
        "    y = y.to(device)\n",
        "\n",
        "    output = NET(x)\n",
        "\n",
        "    Optimizer.zero_grad()\n",
        "    loss = Loss(output, y)\n",
        "    loss.backward()\n",
        "    Optimizer.step()\n",
        "\n",
        "    Epoch_loss += loss.item()\n",
        "    group_loss += loss.item()\n",
        "\n",
        "  print(f\"Epoch #{epoch + 1 } complete, LOSS: {Epoch_loss}\")\n"
      ]
    },
    {
      "cell_type": "code",
      "execution_count": 97,
      "metadata": {
        "id": "GwW_V-ChL93w"
      },
      "outputs": [],
      "source": [
        "class UNETDatasetTest(Dataset):\n",
        "\n",
        "  def __init__(self):\n",
        "    self.train_dir  = \"cityscapes_data/val\"\n",
        "    self.image_names = next(os.walk(self.train_dir))[2]\n",
        "    self.number_of_images = len(self.image_names)\n",
        "\n",
        "\n",
        "  def __len__(self):\n",
        "    return self.number_of_images\n",
        "\n",
        "  def __getitem__(self, index):\n",
        "      image_name = self.image_names[index]\n",
        "      image_data = Image.open(f\"{self.train_dir}/{image_name}\")\n",
        "\n",
        "      tensor_transform = transforms.ToTensor()\n",
        "      resize_transform = transforms.Resize((64,128))\n",
        "\n",
        "      image_data = tensor_transform(image_data)\n",
        "      image_data = resize_transform(image_data)\n",
        "\n",
        "      # img = image_data[: , : ,  : 256 ]\n",
        "      # mask = image_data[: , : , 256 : ]\n",
        "\n",
        "      img = image_data[: , : ,  : 64 ]\n",
        "      mask = image_data[: , : , 64 : ]\n",
        "\n",
        "      return img, mask"
      ]
    },
    {
      "cell_type": "code",
      "execution_count": 98,
      "metadata": {
        "id": "DcvlzWgXMfo-"
      },
      "outputs": [],
      "source": [
        "# torch.save(NET.state_dict, \"/saved_UNET_64x64\")"
      ]
    },
    {
      "cell_type": "code",
      "execution_count": 101,
      "metadata": {
        "colab": {
          "base_uri": "https://localhost:8080/",
          "height": 236
        },
        "id": "JTC0z-S1MFNR",
        "outputId": "9b2c8c2d-c246-471a-de9b-d61c99a96e4e"
      },
      "outputs": [
        {
          "output_type": "execute_result",
          "data": {
            "text/plain": [
              "<matplotlib.image.AxesImage at 0x7f2d9a2a9650>"
            ]
          },
          "metadata": {},
          "execution_count": 101
        },
        {
          "output_type": "display_data",
          "data": {
            "text/plain": [
              "<Figure size 432x288 with 1 Axes>"
            ],
            "image/png": "[encoded data removed]"
          },
          "metadata": {
            "needs_background": "light"
          }
        }
      ],
      "source": [
        "testset = UNETDatasetTest()\n",
        "\n",
        "x,y = testset[34]\n",
        "x = x.unsqueeze(dim = 0)\n",
        "output = NET(x.to(device))\n",
        "img = output.squeeze(dim = 0).permute(1,2,0).detach().cpu().numpy()\n",
        "# img = x.permute(1,2,0).detach().numpy()\n",
        "mask = y.permute(1,2,0).detach().numpy()\n",
        "\n",
        "pixels = np.concatenate((img, mask), axis = 1)\n",
        "plt.imshow(pixels)\n"
      ]
    }
  ],
  "metadata": {
    "accelerator": "GPU",
    "colab": {
      "collapsed_sections": [],
      "name": "U-Net",
      "provenance": [],
      "authorship_tag": "ABX9TyOcI/ySzeAPTQ/fN0BoHKPs",
      "include_colab_link": true
    },
    "gpuClass": "standard",
    "kernelspec": {
      "display_name": "Python 3",
      "name": "python3"
    },
    "language_info": {
      "name": "python"
    }
  },
  "nbformat": 4,
  "nbformat_minor": 0
}